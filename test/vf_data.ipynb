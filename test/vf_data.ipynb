{
 "cells": [
  {
   "cell_type": "code",
   "execution_count": null,
   "metadata": {},
   "outputs": [],
   "source": [
    "import rosbag\n",
    "from std_msgs.msg import String  # or whatever type your topic uses\n",
    "import matplotlib.pyplot as plt\n",
    "import numpy as np\n",
    "from scipy.ndimage import gaussian_filter\n",
    "import pandas as pd\n",
    "# %matplotlib inline\n",
    "# import mpld3\n",
    "# mpld3.enable_notebook()"
   ]
  },
  {
   "cell_type": "code",
   "execution_count": null,
   "metadata": {},
   "outputs": [],
   "source": [
    "time = []\n",
    "lat_ofset = []\n",
    "long_offset = []\n",
    "with rosbag.Bag('/home/moji/archive/2023-10-05-09-47-20.bag', 'r') as bag:\n",
    "    for topic, msg, t in bag.read_messages(topics=['/apsrc_vehicle_following/lead_car']):\n",
    "        time.append(msg.header.stamp.secs + msg.header.stamp.nsecs*1e-9)\n",
    "        lat_ofset.append(msg.pose.position.y)\n",
    "        long_offset.append(msg.pose.position.x)"
   ]
  },
  {
   "cell_type": "code",
   "execution_count": null,
   "metadata": {},
   "outputs": [],
   "source": [
    "header = ['time', 'lat', 'long']\n",
    "df = pd.DataFrame({\n",
    "    'time': time,\n",
    "    'lat': lat_ofset,\n",
    "    'long': long_offset\n",
    "})\n",
    "\n",
    "df.to_csv('raw_data.csv', index=False)"
   ]
  },
  {
   "cell_type": "code",
   "execution_count": null,
   "metadata": {},
   "outputs": [],
   "source": [
    "df"
   ]
  },
  {
   "cell_type": "code",
   "execution_count": null,
   "metadata": {},
   "outputs": [],
   "source": [
    "def moving_average(data, window_size):\n",
    "    return np.convolve(data, np.ones(window_size)/window_size, mode='valid')\n"
   ]
  },
  {
   "cell_type": "code",
   "execution_count": null,
   "metadata": {},
   "outputs": [],
   "source": [
    "\n",
    "plt.plot(time, lat_ofset, time[window-1:], moving_average(lat_ofset, window))\n",
    "plt.savefig('moving_average')"
   ]
  },
  {
   "cell_type": "code",
   "execution_count": null,
   "metadata": {},
   "outputs": [],
   "source": [
    "plt.plot(time, lat_ofset, time, gaussian_filter(lat_ofset, sigma=10))\n",
    "plt.xlabel('time')\n",
    "plt.ylabel('lat_ofset') \n",
    "plt.legend = ['measurement', 'smoothed']\n",
    "plt.savefig('Gaussian_filter')"
   ]
  },
  {
   "cell_type": "code",
   "execution_count": null,
   "metadata": {},
   "outputs": [],
   "source": [
    "window = 5\n",
    "plt.figure(figsize=(20, 10))\n",
    "plt.plot(time, lat_ofset, 'k-', label='Measured Data')\n",
    "plt.plot(time, gaussian_filter(lat_ofset, sigma=10), 'r-', label='Gaussian Filter')\n",
    "plt.plot(time[window-1:], moving_average(lat_ofset, window), 'b-', label='Moving Average')\n",
    "plt.legend()\n",
    "plt.title(\"Lateral Offset Estimation\")\n",
    "plt.xlabel(\"Time\")\n",
    "plt.ylabel(\"Lat Offset\")\n",
    "plt.grid(True)\n",
    "plt.show()\n",
    "plt.savefig('Traking-lateral.jpg')"
   ]
  },
  {
   "cell_type": "code",
   "execution_count": null,
   "metadata": {},
   "outputs": [],
   "source": [
    "window = 5\n",
    "plt.figure(figsize=(20, 10))\n",
    "plt.plot(time, long_offset, 'k-', label='Measured Data')\n",
    "plt.plot(time, gaussian_filter(long_offset, sigma=10), 'r-', label='Gaussian Filter')\n",
    "plt.plot(time[window-1:], moving_average(long_offset, window), 'b-', label='Moving Average')\n",
    "plt.legend()\n",
    "plt.title(\"Longitudinal Offset Estimation\")\n",
    "plt.xlabel(\"Time\")\n",
    "plt.ylabel(\"Long Offset\")\n",
    "plt.grid(True)\n",
    "plt.show()\n",
    "plt.savefig('Traking-longitudinal.jpg')"
   ]
  },
  {
   "cell_type": "code",
   "execution_count": 1,
   "metadata": {},
   "outputs": [],
   "source": [
    "import h5py\n",
    "import numpy as np\n",
    "filepath = '/home/moji/Downloads/LidarPerc_005.mat'\n",
    "arrays = {}\n",
    "f = h5py.File(filepath)\n",
    "for k, v in f.items():\n",
    "    arrays[k] = np.array(v)\n",
    "\n"
   ]
  },
  {
   "cell_type": "code",
   "execution_count": 9,
   "metadata": {},
   "outputs": [
    {
     "ename": "IndexError",
     "evalue": "only integers, slices (`:`), ellipsis (`...`), numpy.newaxis (`None`) and integer or boolean arrays are valid indices",
     "output_type": "error",
     "traceback": [
      "\u001b[0;31m---------------------------------------------------------------------------\u001b[0m",
      "\u001b[0;31mIndexError\u001b[0m                                Traceback (most recent call last)",
      "\u001b[0;32m<ipython-input-9-bf85555442dd>\u001b[0m in \u001b[0;36m<module>\u001b[0;34m\u001b[0m\n\u001b[0;32m----> 1\u001b[0;31m \u001b[0marrays\u001b[0m\u001b[0;34m[\u001b[0m\u001b[0;34m'LidarPerc_005'\u001b[0m\u001b[0;34m]\u001b[0m\u001b[0;34m[\u001b[0m\u001b[0;34m'X'\u001b[0m\u001b[0;34m]\u001b[0m\u001b[0;34m\u001b[0m\u001b[0;34m\u001b[0m\u001b[0m\n\u001b[0m",
      "\u001b[0;31mIndexError\u001b[0m: only integers, slices (`:`), ellipsis (`...`), numpy.newaxis (`None`) and integer or boolean arrays are valid indices"
     ]
    }
   ],
   "source": [
    "arrays['LidarPerc_005']['X']"
   ]
  },
  {
   "cell_type": "code",
   "execution_count": null,
   "metadata": {},
   "outputs": [],
   "source": []
  }
 ],
 "metadata": {
  "kernelspec": {
   "display_name": "autoware",
   "language": "python",
   "name": "python3"
  },
  "language_info": {
   "codemirror_mode": {
    "name": "ipython",
    "version": 3
   },
   "file_extension": ".py",
   "mimetype": "text/x-python",
   "name": "python",
   "nbconvert_exporter": "python",
   "pygments_lexer": "ipython3",
   "version": "3.6.10"
  },
  "orig_nbformat": 4
 },
 "nbformat": 4,
 "nbformat_minor": 2
}
